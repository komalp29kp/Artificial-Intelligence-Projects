{
  "cells": [
    {
      "cell_type": "markdown",
      "id": "744f8d7e",
      "metadata": {
        "id": "744f8d7e"
      },
      "source": [
        "**Komal Pawar **           ID:11512926"
      ]
    },
    {
      "cell_type": "code",
      "execution_count": 1,
      "id": "40ca069f",
      "metadata": {
        "id": "40ca069f"
      },
      "outputs": [],
      "source": [
        "from sklearn.ensemble import RandomForestClassifier\n",
        "import pandas as pd\n",
        "import numpy as np\n",
        "from sklearn.model_selection import train_test_split\n",
        "import matplotlib.pyplot as plt\n",
        "from scipy.stats import pearsonr\n",
        "from sklearn.impute import SimpleImputer\n",
        "\n",
        "def getData(filename):\n",
        "  canData=[] #List to store CAN data\n",
        "  f = open(filename)\n",
        "  #read_file = reader(f)\n",
        "  read_file =f.readlines()\n",
        "  \n",
        "  #file = list(read_file)\n",
        "  speed = []\n",
        "  rpm = []\n",
        "  i = 0\n",
        "  for row in read_file:\n",
        "    #Change the positions of the values if needed\n",
        "    record = {'stamp':row[1:18], 'PID':row[25:28], 'const1':row[29:33], \n",
        "'change':row[33:41],'value':int(row[41:45], 16), 'value2':0 ,'attack':0}\n",
        "    \n",
        "    if record[\"PID\"] == '254': #Processing of speed\n",
        "      if record[\"value\"] >= 4095:\n",
        "        record[\"attack\"] = 1\n",
        "      record['value'] =  (record['value'] * 0.62137119) /100\n",
        "      speed.append(record['value'])\n",
        "    \n",
        "    if record[\"PID\"] == '115': #Processing of RPM \n",
        "      if record[\"value\"] >= 65535:\n",
        "        record[\"attack\"] = 1\n",
        "      record['value'] =  (record['value'] * 2)\n",
        "      rpm.append(record['value'])\n",
        "\n",
        "    i = i+1   \n",
        "    canData.append(record)\n",
        "    record={}\n",
        "    \n",
        "  f.close()\n",
        "  return canData\n",
        "\n",
        "def dict_to_df(dict):\n",
        "\n",
        "  #load dictionary to dataframe\n",
        "  df = pd.DataFrame.from_dict(dict)\n",
        "  df = df.drop(columns=['stamp','const1','change','value2'])\n",
        "  df = df.loc[(df['PID'] == '115') | (df['PID'] == '254')]\n",
        "  df = df.reset_index(drop=True)\n",
        "  one_hot = pd.get_dummies(df['PID'])\n",
        "  df = df.drop('PID',axis = 1)\n",
        "  df = df.join(one_hot)\n",
        "  df = df[['115', '254', 'value', 'attack']]\n",
        "  df.rename(columns = {'115':'RPM', '254':'Speed'}, inplace = True)\n",
        "  df.loc[df['RPM'] == 1, 'RPM'] = df['value']\n",
        "  df.loc[df['Speed'] == 1, 'Speed'] = df['value']\n",
        "  df = df.drop(columns=['value'])\n",
        "\n",
        "  return df\n",
        "\n",
        "#edit file name with file directory of downloaded log files\n",
        "fff_injection_df = dict_to_df(getData(\"CAN Bus log - injection of FFF as the speed reading.log\"))\n",
        "rpm_injection_df = dict_to_df(getData(\"CAN Bus log - injection of RPM readings.log\"))\n",
        "no_injection_df = dict_to_df(getData(\"CAN bus log - no injection of messages.log\"))"
      ]
    },
    {
      "cell_type": "markdown",
      "id": "7901bdaf",
      "metadata": {
        "id": "7901bdaf"
      },
      "source": [
        "**## Task 1:  preparation of Data**\n",
        "\n",
        "> Indented block\n",
        "\n"
      ]
    },
    {
      "cell_type": "code",
      "execution_count": 4,
      "id": "3db3591d",
      "metadata": {
        "colab": {
          "base_uri": "https://localhost:8080/",
          "height": 363
        },
        "id": "3db3591d",
        "outputId": "822eddf9-b5e1-4a60-d8d2-f16a28b4abe1"
      },
      "outputs": [
        {
          "output_type": "execute_result",
          "data": {
            "text/plain": [
              "     RPM  Speed  attack\n",
              "0  626.0    0.0       0\n",
              "1    0.0    0.0       0\n",
              "2  624.0    0.0       0\n",
              "3    0.0    0.0       0\n",
              "4  624.0    0.0       0\n",
              "5  626.0    0.0       0\n",
              "6    0.0    0.0       0\n",
              "7  626.0    0.0       0\n",
              "8    0.0    0.0       0\n",
              "9  626.0    0.0       0"
            ],
            "text/html": [
              "\n",
              "  <div id=\"df-2e0d4c62-9d63-4939-b86c-83ea2eb533da\">\n",
              "    <div class=\"colab-df-container\">\n",
              "      <div>\n",
              "<style scoped>\n",
              "    .dataframe tbody tr th:only-of-type {\n",
              "        vertical-align: middle;\n",
              "    }\n",
              "\n",
              "    .dataframe tbody tr th {\n",
              "        vertical-align: top;\n",
              "    }\n",
              "\n",
              "    .dataframe thead th {\n",
              "        text-align: right;\n",
              "    }\n",
              "</style>\n",
              "<table border=\"1\" class=\"dataframe\">\n",
              "  <thead>\n",
              "    <tr style=\"text-align: right;\">\n",
              "      <th></th>\n",
              "      <th>RPM</th>\n",
              "      <th>Speed</th>\n",
              "      <th>attack</th>\n",
              "    </tr>\n",
              "  </thead>\n",
              "  <tbody>\n",
              "    <tr>\n",
              "      <th>0</th>\n",
              "      <td>626.0</td>\n",
              "      <td>0.0</td>\n",
              "      <td>0</td>\n",
              "    </tr>\n",
              "    <tr>\n",
              "      <th>1</th>\n",
              "      <td>0.0</td>\n",
              "      <td>0.0</td>\n",
              "      <td>0</td>\n",
              "    </tr>\n",
              "    <tr>\n",
              "      <th>2</th>\n",
              "      <td>624.0</td>\n",
              "      <td>0.0</td>\n",
              "      <td>0</td>\n",
              "    </tr>\n",
              "    <tr>\n",
              "      <th>3</th>\n",
              "      <td>0.0</td>\n",
              "      <td>0.0</td>\n",
              "      <td>0</td>\n",
              "    </tr>\n",
              "    <tr>\n",
              "      <th>4</th>\n",
              "      <td>624.0</td>\n",
              "      <td>0.0</td>\n",
              "      <td>0</td>\n",
              "    </tr>\n",
              "    <tr>\n",
              "      <th>5</th>\n",
              "      <td>626.0</td>\n",
              "      <td>0.0</td>\n",
              "      <td>0</td>\n",
              "    </tr>\n",
              "    <tr>\n",
              "      <th>6</th>\n",
              "      <td>0.0</td>\n",
              "      <td>0.0</td>\n",
              "      <td>0</td>\n",
              "    </tr>\n",
              "    <tr>\n",
              "      <th>7</th>\n",
              "      <td>626.0</td>\n",
              "      <td>0.0</td>\n",
              "      <td>0</td>\n",
              "    </tr>\n",
              "    <tr>\n",
              "      <th>8</th>\n",
              "      <td>0.0</td>\n",
              "      <td>0.0</td>\n",
              "      <td>0</td>\n",
              "    </tr>\n",
              "    <tr>\n",
              "      <th>9</th>\n",
              "      <td>626.0</td>\n",
              "      <td>0.0</td>\n",
              "      <td>0</td>\n",
              "    </tr>\n",
              "  </tbody>\n",
              "</table>\n",
              "</div>\n",
              "      <button class=\"colab-df-convert\" onclick=\"convertToInteractive('df-2e0d4c62-9d63-4939-b86c-83ea2eb533da')\"\n",
              "              title=\"Convert this dataframe to an interactive table.\"\n",
              "              style=\"display:none;\">\n",
              "        \n",
              "  <svg xmlns=\"http://www.w3.org/2000/svg\" height=\"24px\"viewBox=\"0 0 24 24\"\n",
              "       width=\"24px\">\n",
              "    <path d=\"M0 0h24v24H0V0z\" fill=\"none\"/>\n",
              "    <path d=\"M18.56 5.44l.94 2.06.94-2.06 2.06-.94-2.06-.94-.94-2.06-.94 2.06-2.06.94zm-11 1L8.5 8.5l.94-2.06 2.06-.94-2.06-.94L8.5 2.5l-.94 2.06-2.06.94zm10 10l.94 2.06.94-2.06 2.06-.94-2.06-.94-.94-2.06-.94 2.06-2.06.94z\"/><path d=\"M17.41 7.96l-1.37-1.37c-.4-.4-.92-.59-1.43-.59-.52 0-1.04.2-1.43.59L10.3 9.45l-7.72 7.72c-.78.78-.78 2.05 0 2.83L4 21.41c.39.39.9.59 1.41.59.51 0 1.02-.2 1.41-.59l7.78-7.78 2.81-2.81c.8-.78.8-2.07 0-2.86zM5.41 20L4 18.59l7.72-7.72 1.47 1.35L5.41 20z\"/>\n",
              "  </svg>\n",
              "      </button>\n",
              "      \n",
              "  <style>\n",
              "    .colab-df-container {\n",
              "      display:flex;\n",
              "      flex-wrap:wrap;\n",
              "      gap: 12px;\n",
              "    }\n",
              "\n",
              "    .colab-df-convert {\n",
              "      background-color: #E8F0FE;\n",
              "      border: none;\n",
              "      border-radius: 50%;\n",
              "      cursor: pointer;\n",
              "      display: none;\n",
              "      fill: #1967D2;\n",
              "      height: 32px;\n",
              "      padding: 0 0 0 0;\n",
              "      width: 32px;\n",
              "    }\n",
              "\n",
              "    .colab-df-convert:hover {\n",
              "      background-color: #E2EBFA;\n",
              "      box-shadow: 0px 1px 2px rgba(60, 64, 67, 0.3), 0px 1px 3px 1px rgba(60, 64, 67, 0.15);\n",
              "      fill: #174EA6;\n",
              "    }\n",
              "\n",
              "    [theme=dark] .colab-df-convert {\n",
              "      background-color: #3B4455;\n",
              "      fill: #D2E3FC;\n",
              "    }\n",
              "\n",
              "    [theme=dark] .colab-df-convert:hover {\n",
              "      background-color: #434B5C;\n",
              "      box-shadow: 0px 1px 3px 1px rgba(0, 0, 0, 0.15);\n",
              "      filter: drop-shadow(0px 1px 2px rgba(0, 0, 0, 0.3));\n",
              "      fill: #FFFFFF;\n",
              "    }\n",
              "  </style>\n",
              "\n",
              "      <script>\n",
              "        const buttonEl =\n",
              "          document.querySelector('#df-2e0d4c62-9d63-4939-b86c-83ea2eb533da button.colab-df-convert');\n",
              "        buttonEl.style.display =\n",
              "          google.colab.kernel.accessAllowed ? 'block' : 'none';\n",
              "\n",
              "        async function convertToInteractive(key) {\n",
              "          const element = document.querySelector('#df-2e0d4c62-9d63-4939-b86c-83ea2eb533da');\n",
              "          const dataTable =\n",
              "            await google.colab.kernel.invokeFunction('convertToInteractive',\n",
              "                                                     [key], {});\n",
              "          if (!dataTable) return;\n",
              "\n",
              "          const docLinkHtml = 'Like what you see? Visit the ' +\n",
              "            '<a target=\"_blank\" href=https://colab.research.google.com/notebooks/data_table.ipynb>data table notebook</a>'\n",
              "            + ' to learn more about interactive tables.';\n",
              "          element.innerHTML = '';\n",
              "          dataTable['output_type'] = 'display_data';\n",
              "          await google.colab.output.renderOutput(dataTable, element);\n",
              "          const docLink = document.createElement('div');\n",
              "          docLink.innerHTML = docLinkHtml;\n",
              "          element.appendChild(docLink);\n",
              "        }\n",
              "      </script>\n",
              "    </div>\n",
              "  </div>\n",
              "  "
            ]
          },
          "metadata": {},
          "execution_count": 4
        }
      ],
      "source": [
        "fff_injection_df.head(10)"
      ]
    },
    {
      "cell_type": "code",
      "execution_count": 5,
      "id": "c7f646c7",
      "metadata": {
        "colab": {
          "base_uri": "https://localhost:8080/",
          "height": 363
        },
        "id": "c7f646c7",
        "outputId": "b505a078-c580-4e76-ab01-f4e3f0619d55"
      },
      "outputs": [
        {
          "output_type": "execute_result",
          "data": {
            "text/plain": [
              "     RPM     Speed  attack\n",
              "0  740.0  0.000000       0\n",
              "1    0.0  5.312724       0\n",
              "2  742.0  0.000000       0\n",
              "3    0.0  5.312724       0\n",
              "4  744.0  0.000000       0\n",
              "5    0.0  5.312724       0\n",
              "6  744.0  0.000000       0\n",
              "7  742.0  0.000000       0\n",
              "8    0.0  5.343792       0\n",
              "9  742.0  0.000000       0"
            ],
            "text/html": [
              "\n",
              "  <div id=\"df-9b1aaed1-3f7f-4598-85a7-17979a743fcb\">\n",
              "    <div class=\"colab-df-container\">\n",
              "      <div>\n",
              "<style scoped>\n",
              "    .dataframe tbody tr th:only-of-type {\n",
              "        vertical-align: middle;\n",
              "    }\n",
              "\n",
              "    .dataframe tbody tr th {\n",
              "        vertical-align: top;\n",
              "    }\n",
              "\n",
              "    .dataframe thead th {\n",
              "        text-align: right;\n",
              "    }\n",
              "</style>\n",
              "<table border=\"1\" class=\"dataframe\">\n",
              "  <thead>\n",
              "    <tr style=\"text-align: right;\">\n",
              "      <th></th>\n",
              "      <th>RPM</th>\n",
              "      <th>Speed</th>\n",
              "      <th>attack</th>\n",
              "    </tr>\n",
              "  </thead>\n",
              "  <tbody>\n",
              "    <tr>\n",
              "      <th>0</th>\n",
              "      <td>740.0</td>\n",
              "      <td>0.000000</td>\n",
              "      <td>0</td>\n",
              "    </tr>\n",
              "    <tr>\n",
              "      <th>1</th>\n",
              "      <td>0.0</td>\n",
              "      <td>5.312724</td>\n",
              "      <td>0</td>\n",
              "    </tr>\n",
              "    <tr>\n",
              "      <th>2</th>\n",
              "      <td>742.0</td>\n",
              "      <td>0.000000</td>\n",
              "      <td>0</td>\n",
              "    </tr>\n",
              "    <tr>\n",
              "      <th>3</th>\n",
              "      <td>0.0</td>\n",
              "      <td>5.312724</td>\n",
              "      <td>0</td>\n",
              "    </tr>\n",
              "    <tr>\n",
              "      <th>4</th>\n",
              "      <td>744.0</td>\n",
              "      <td>0.000000</td>\n",
              "      <td>0</td>\n",
              "    </tr>\n",
              "    <tr>\n",
              "      <th>5</th>\n",
              "      <td>0.0</td>\n",
              "      <td>5.312724</td>\n",
              "      <td>0</td>\n",
              "    </tr>\n",
              "    <tr>\n",
              "      <th>6</th>\n",
              "      <td>744.0</td>\n",
              "      <td>0.000000</td>\n",
              "      <td>0</td>\n",
              "    </tr>\n",
              "    <tr>\n",
              "      <th>7</th>\n",
              "      <td>742.0</td>\n",
              "      <td>0.000000</td>\n",
              "      <td>0</td>\n",
              "    </tr>\n",
              "    <tr>\n",
              "      <th>8</th>\n",
              "      <td>0.0</td>\n",
              "      <td>5.343792</td>\n",
              "      <td>0</td>\n",
              "    </tr>\n",
              "    <tr>\n",
              "      <th>9</th>\n",
              "      <td>742.0</td>\n",
              "      <td>0.000000</td>\n",
              "      <td>0</td>\n",
              "    </tr>\n",
              "  </tbody>\n",
              "</table>\n",
              "</div>\n",
              "      <button class=\"colab-df-convert\" onclick=\"convertToInteractive('df-9b1aaed1-3f7f-4598-85a7-17979a743fcb')\"\n",
              "              title=\"Convert this dataframe to an interactive table.\"\n",
              "              style=\"display:none;\">\n",
              "        \n",
              "  <svg xmlns=\"http://www.w3.org/2000/svg\" height=\"24px\"viewBox=\"0 0 24 24\"\n",
              "       width=\"24px\">\n",
              "    <path d=\"M0 0h24v24H0V0z\" fill=\"none\"/>\n",
              "    <path d=\"M18.56 5.44l.94 2.06.94-2.06 2.06-.94-2.06-.94-.94-2.06-.94 2.06-2.06.94zm-11 1L8.5 8.5l.94-2.06 2.06-.94-2.06-.94L8.5 2.5l-.94 2.06-2.06.94zm10 10l.94 2.06.94-2.06 2.06-.94-2.06-.94-.94-2.06-.94 2.06-2.06.94z\"/><path d=\"M17.41 7.96l-1.37-1.37c-.4-.4-.92-.59-1.43-.59-.52 0-1.04.2-1.43.59L10.3 9.45l-7.72 7.72c-.78.78-.78 2.05 0 2.83L4 21.41c.39.39.9.59 1.41.59.51 0 1.02-.2 1.41-.59l7.78-7.78 2.81-2.81c.8-.78.8-2.07 0-2.86zM5.41 20L4 18.59l7.72-7.72 1.47 1.35L5.41 20z\"/>\n",
              "  </svg>\n",
              "      </button>\n",
              "      \n",
              "  <style>\n",
              "    .colab-df-container {\n",
              "      display:flex;\n",
              "      flex-wrap:wrap;\n",
              "      gap: 12px;\n",
              "    }\n",
              "\n",
              "    .colab-df-convert {\n",
              "      background-color: #E8F0FE;\n",
              "      border: none;\n",
              "      border-radius: 50%;\n",
              "      cursor: pointer;\n",
              "      display: none;\n",
              "      fill: #1967D2;\n",
              "      height: 32px;\n",
              "      padding: 0 0 0 0;\n",
              "      width: 32px;\n",
              "    }\n",
              "\n",
              "    .colab-df-convert:hover {\n",
              "      background-color: #E2EBFA;\n",
              "      box-shadow: 0px 1px 2px rgba(60, 64, 67, 0.3), 0px 1px 3px 1px rgba(60, 64, 67, 0.15);\n",
              "      fill: #174EA6;\n",
              "    }\n",
              "\n",
              "    [theme=dark] .colab-df-convert {\n",
              "      background-color: #3B4455;\n",
              "      fill: #D2E3FC;\n",
              "    }\n",
              "\n",
              "    [theme=dark] .colab-df-convert:hover {\n",
              "      background-color: #434B5C;\n",
              "      box-shadow: 0px 1px 3px 1px rgba(0, 0, 0, 0.15);\n",
              "      filter: drop-shadow(0px 1px 2px rgba(0, 0, 0, 0.3));\n",
              "      fill: #FFFFFF;\n",
              "    }\n",
              "  </style>\n",
              "\n",
              "      <script>\n",
              "        const buttonEl =\n",
              "          document.querySelector('#df-9b1aaed1-3f7f-4598-85a7-17979a743fcb button.colab-df-convert');\n",
              "        buttonEl.style.display =\n",
              "          google.colab.kernel.accessAllowed ? 'block' : 'none';\n",
              "\n",
              "        async function convertToInteractive(key) {\n",
              "          const element = document.querySelector('#df-9b1aaed1-3f7f-4598-85a7-17979a743fcb');\n",
              "          const dataTable =\n",
              "            await google.colab.kernel.invokeFunction('convertToInteractive',\n",
              "                                                     [key], {});\n",
              "          if (!dataTable) return;\n",
              "\n",
              "          const docLinkHtml = 'Like what you see? Visit the ' +\n",
              "            '<a target=\"_blank\" href=https://colab.research.google.com/notebooks/data_table.ipynb>data table notebook</a>'\n",
              "            + ' to learn more about interactive tables.';\n",
              "          element.innerHTML = '';\n",
              "          dataTable['output_type'] = 'display_data';\n",
              "          await google.colab.output.renderOutput(dataTable, element);\n",
              "          const docLink = document.createElement('div');\n",
              "          docLink.innerHTML = docLinkHtml;\n",
              "          element.appendChild(docLink);\n",
              "        }\n",
              "      </script>\n",
              "    </div>\n",
              "  </div>\n",
              "  "
            ]
          },
          "metadata": {},
          "execution_count": 5
        }
      ],
      "source": [
        "rpm_injection_df.head(10)"
      ]
    },
    {
      "cell_type": "code",
      "execution_count": 6,
      "id": "a5b92a43",
      "metadata": {
        "colab": {
          "base_uri": "https://localhost:8080/",
          "height": 363
        },
        "id": "a5b92a43",
        "outputId": "d3574b03-ba1e-4835-8793-d2bc79669c30"
      },
      "outputs": [
        {
          "output_type": "execute_result",
          "data": {
            "text/plain": [
              "     RPM  Speed  attack\n",
              "0  636.0    0.0       0\n",
              "1    0.0    0.0       0\n",
              "2  640.0    0.0       0\n",
              "3    0.0    0.0       0\n",
              "4  640.0    0.0       0\n",
              "5    0.0    0.0       0\n",
              "6  638.0    0.0       0\n",
              "7  638.0    0.0       0\n",
              "8    0.0    0.0       0\n",
              "9  640.0    0.0       0"
            ],
            "text/html": [
              "\n",
              "  <div id=\"df-57635baa-3f4d-431f-83bd-959767a9f803\">\n",
              "    <div class=\"colab-df-container\">\n",
              "      <div>\n",
              "<style scoped>\n",
              "    .dataframe tbody tr th:only-of-type {\n",
              "        vertical-align: middle;\n",
              "    }\n",
              "\n",
              "    .dataframe tbody tr th {\n",
              "        vertical-align: top;\n",
              "    }\n",
              "\n",
              "    .dataframe thead th {\n",
              "        text-align: right;\n",
              "    }\n",
              "</style>\n",
              "<table border=\"1\" class=\"dataframe\">\n",
              "  <thead>\n",
              "    <tr style=\"text-align: right;\">\n",
              "      <th></th>\n",
              "      <th>RPM</th>\n",
              "      <th>Speed</th>\n",
              "      <th>attack</th>\n",
              "    </tr>\n",
              "  </thead>\n",
              "  <tbody>\n",
              "    <tr>\n",
              "      <th>0</th>\n",
              "      <td>636.0</td>\n",
              "      <td>0.0</td>\n",
              "      <td>0</td>\n",
              "    </tr>\n",
              "    <tr>\n",
              "      <th>1</th>\n",
              "      <td>0.0</td>\n",
              "      <td>0.0</td>\n",
              "      <td>0</td>\n",
              "    </tr>\n",
              "    <tr>\n",
              "      <th>2</th>\n",
              "      <td>640.0</td>\n",
              "      <td>0.0</td>\n",
              "      <td>0</td>\n",
              "    </tr>\n",
              "    <tr>\n",
              "      <th>3</th>\n",
              "      <td>0.0</td>\n",
              "      <td>0.0</td>\n",
              "      <td>0</td>\n",
              "    </tr>\n",
              "    <tr>\n",
              "      <th>4</th>\n",
              "      <td>640.0</td>\n",
              "      <td>0.0</td>\n",
              "      <td>0</td>\n",
              "    </tr>\n",
              "    <tr>\n",
              "      <th>5</th>\n",
              "      <td>0.0</td>\n",
              "      <td>0.0</td>\n",
              "      <td>0</td>\n",
              "    </tr>\n",
              "    <tr>\n",
              "      <th>6</th>\n",
              "      <td>638.0</td>\n",
              "      <td>0.0</td>\n",
              "      <td>0</td>\n",
              "    </tr>\n",
              "    <tr>\n",
              "      <th>7</th>\n",
              "      <td>638.0</td>\n",
              "      <td>0.0</td>\n",
              "      <td>0</td>\n",
              "    </tr>\n",
              "    <tr>\n",
              "      <th>8</th>\n",
              "      <td>0.0</td>\n",
              "      <td>0.0</td>\n",
              "      <td>0</td>\n",
              "    </tr>\n",
              "    <tr>\n",
              "      <th>9</th>\n",
              "      <td>640.0</td>\n",
              "      <td>0.0</td>\n",
              "      <td>0</td>\n",
              "    </tr>\n",
              "  </tbody>\n",
              "</table>\n",
              "</div>\n",
              "      <button class=\"colab-df-convert\" onclick=\"convertToInteractive('df-57635baa-3f4d-431f-83bd-959767a9f803')\"\n",
              "              title=\"Convert this dataframe to an interactive table.\"\n",
              "              style=\"display:none;\">\n",
              "        \n",
              "  <svg xmlns=\"http://www.w3.org/2000/svg\" height=\"24px\"viewBox=\"0 0 24 24\"\n",
              "       width=\"24px\">\n",
              "    <path d=\"M0 0h24v24H0V0z\" fill=\"none\"/>\n",
              "    <path d=\"M18.56 5.44l.94 2.06.94-2.06 2.06-.94-2.06-.94-.94-2.06-.94 2.06-2.06.94zm-11 1L8.5 8.5l.94-2.06 2.06-.94-2.06-.94L8.5 2.5l-.94 2.06-2.06.94zm10 10l.94 2.06.94-2.06 2.06-.94-2.06-.94-.94-2.06-.94 2.06-2.06.94z\"/><path d=\"M17.41 7.96l-1.37-1.37c-.4-.4-.92-.59-1.43-.59-.52 0-1.04.2-1.43.59L10.3 9.45l-7.72 7.72c-.78.78-.78 2.05 0 2.83L4 21.41c.39.39.9.59 1.41.59.51 0 1.02-.2 1.41-.59l7.78-7.78 2.81-2.81c.8-.78.8-2.07 0-2.86zM5.41 20L4 18.59l7.72-7.72 1.47 1.35L5.41 20z\"/>\n",
              "  </svg>\n",
              "      </button>\n",
              "      \n",
              "  <style>\n",
              "    .colab-df-container {\n",
              "      display:flex;\n",
              "      flex-wrap:wrap;\n",
              "      gap: 12px;\n",
              "    }\n",
              "\n",
              "    .colab-df-convert {\n",
              "      background-color: #E8F0FE;\n",
              "      border: none;\n",
              "      border-radius: 50%;\n",
              "      cursor: pointer;\n",
              "      display: none;\n",
              "      fill: #1967D2;\n",
              "      height: 32px;\n",
              "      padding: 0 0 0 0;\n",
              "      width: 32px;\n",
              "    }\n",
              "\n",
              "    .colab-df-convert:hover {\n",
              "      background-color: #E2EBFA;\n",
              "      box-shadow: 0px 1px 2px rgba(60, 64, 67, 0.3), 0px 1px 3px 1px rgba(60, 64, 67, 0.15);\n",
              "      fill: #174EA6;\n",
              "    }\n",
              "\n",
              "    [theme=dark] .colab-df-convert {\n",
              "      background-color: #3B4455;\n",
              "      fill: #D2E3FC;\n",
              "    }\n",
              "\n",
              "    [theme=dark] .colab-df-convert:hover {\n",
              "      background-color: #434B5C;\n",
              "      box-shadow: 0px 1px 3px 1px rgba(0, 0, 0, 0.15);\n",
              "      filter: drop-shadow(0px 1px 2px rgba(0, 0, 0, 0.3));\n",
              "      fill: #FFFFFF;\n",
              "    }\n",
              "  </style>\n",
              "\n",
              "      <script>\n",
              "        const buttonEl =\n",
              "          document.querySelector('#df-57635baa-3f4d-431f-83bd-959767a9f803 button.colab-df-convert');\n",
              "        buttonEl.style.display =\n",
              "          google.colab.kernel.accessAllowed ? 'block' : 'none';\n",
              "\n",
              "        async function convertToInteractive(key) {\n",
              "          const element = document.querySelector('#df-57635baa-3f4d-431f-83bd-959767a9f803');\n",
              "          const dataTable =\n",
              "            await google.colab.kernel.invokeFunction('convertToInteractive',\n",
              "                                                     [key], {});\n",
              "          if (!dataTable) return;\n",
              "\n",
              "          const docLinkHtml = 'Like what you see? Visit the ' +\n",
              "            '<a target=\"_blank\" href=https://colab.research.google.com/notebooks/data_table.ipynb>data table notebook</a>'\n",
              "            + ' to learn more about interactive tables.';\n",
              "          element.innerHTML = '';\n",
              "          dataTable['output_type'] = 'display_data';\n",
              "          await google.colab.output.renderOutput(dataTable, element);\n",
              "          const docLink = document.createElement('div');\n",
              "          docLink.innerHTML = docLinkHtml;\n",
              "          element.appendChild(docLink);\n",
              "        }\n",
              "      </script>\n",
              "    </div>\n",
              "  </div>\n",
              "  "
            ]
          },
          "metadata": {},
          "execution_count": 6
        }
      ],
      "source": [
        "no_injection_df.head(10)"
      ]
    },
    {
      "cell_type": "markdown",
      "id": "e70d68ab",
      "metadata": {
        "id": "e70d68ab"
      },
      "source": [
        "**Explore and analyze the data**"
      ]
    },
    {
      "cell_type": "code",
      "execution_count": 8,
      "id": "c8fd59c6",
      "metadata": {
        "colab": {
          "base_uri": "https://localhost:8080/",
          "height": 486
        },
        "id": "c8fd59c6",
        "outputId": "64027053-3fed-4a72-9847-1f98c4a88b4b"
      },
      "outputs": [
        {
          "output_type": "display_data",
          "data": {
            "text/plain": [
              "<Figure size 1440x576 with 3 Axes>"
            ],
            "image/png": "[encoded data removed]"
          },
          "metadata": {
            "needs_background": "light"
          }
        }
      ],
      "source": [
        "\n",
        "figure, axes = plt.subplots(nrows=1, ncols=3, figsize=(20, 8))\n",
        "\n",
        "axes[0].scatter(fff_injection_df.index, fff_injection_df['Speed'],color='blue')\n",
        "axes[0].set_title('Change of speed over time',color='black')\n",
        "axes[0].set_xlabel('Time')\n",
        "axes[0].set_ylabel('Speed')\n",
        "\n",
        "axes[1].scatter(fff_injection_df.index, fff_injection_df['RPM'],color='blue')\n",
        "axes[1].set_title('Change of RPM over time',color='black')\n",
        "axes[1].set_xlabel('Time')\n",
        "axes[1].set_ylabel('RPM')\n",
        "\n",
        "axes[2].scatter( fff_injection_df['RPM'],fff_injection_df['Speed'],color='blue')\n",
        "axes[2].set_title('Relationship between speed and RMP',color='black')\n",
        "axes[2].set_xlabel('RPM')\n",
        "axes[2].set_ylabel('Speed')\n",
        "figure.suptitle(\"For fff_injection_df dataset\",color='red',fontsize=16)\n",
        "plt.show()\n"
      ]
    },
    {
      "cell_type": "code",
      "execution_count": 9,
      "id": "63e47f98",
      "metadata": {
        "scrolled": true,
        "colab": {
          "base_uri": "https://localhost:8080/",
          "height": 486
        },
        "id": "63e47f98",
        "outputId": "aa8788dd-4c87-4d39-fddf-812c47e4af3f"
      },
      "outputs": [
        {
          "output_type": "display_data",
          "data": {
            "text/plain": [
              "<Figure size 1440x576 with 3 Axes>"
            ],
            "image/png": "[encoded data removed]"
          },
          "metadata": {
            "needs_background": "light"
          }
        }
      ],
      "source": [
        "\n",
        "figure, axes = plt.subplots(nrows=1, ncols=3, figsize=(20, 8))\n",
        "\n",
        "axes[0].scatter(rpm_injection_df.index, rpm_injection_df['Speed'],color='blue')\n",
        "axes[0].set_title('Change of speed over time',color='black')\n",
        "axes[0].set_xlabel('Time')\n",
        "axes[0].set_ylabel('Speed')\n",
        "\n",
        "axes[1].scatter(rpm_injection_df.index, rpm_injection_df['RPM'],color='blue')\n",
        "axes[1].set_title('Change of RPM over time',color='black')\n",
        "axes[1].set_xlabel('Time')\n",
        "axes[1].set_ylabel('RPM')\n",
        "\n",
        "axes[2].scatter( rpm_injection_df['RPM'],rpm_injection_df['Speed'],color='blue')\n",
        "axes[2].set_title('Relationship between speed and RMP',color='black')\n",
        "axes[2].set_xlabel('RPM')\n",
        "axes[2].set_ylabel('Speed')\n",
        "figure.suptitle(\"For rpm_injection_df dataset\",color='red',fontsize=16)\n",
        "plt.show()"
      ]
    },
    {
      "cell_type": "code",
      "execution_count": 10,
      "id": "0d1621e7",
      "metadata": {
        "colab": {
          "base_uri": "https://localhost:8080/",
          "height": 486
        },
        "id": "0d1621e7",
        "outputId": "022fc18c-908b-405a-bffb-cdc4d9b86296"
      },
      "outputs": [
        {
          "output_type": "display_data",
          "data": {
            "text/plain": [
              "<Figure size 1440x576 with 3 Axes>"
            ],
            "image/png": "[encoded data removed]"
          },
          "metadata": {
            "needs_background": "light"
          }
        }
      ],
      "source": [
        "\n",
        "figure, axes = plt.subplots(nrows=1, ncols=3, figsize=(20, 8))\n",
        "\n",
        "axes[0].scatter(no_injection_df.index, no_injection_df['Speed'],color='blue')\n",
        "axes[0].set_title('Change of speed over time',color='black')\n",
        "axes[0].set_xlabel('Time')\n",
        "axes[0].set_ylabel('Speed')\n",
        "\n",
        "axes[1].scatter(no_injection_df.index, no_injection_df['RPM'],color='blue')\n",
        "axes[1].set_title('Change of RPM over time',color='black')\n",
        "axes[1].set_xlabel('Time')\n",
        "axes[1].set_ylabel('RPM')\n",
        "\n",
        "axes[2].scatter( no_injection_df['RPM'],no_injection_df['Speed'],color='blue')\n",
        "axes[2].set_title('Relationship between speed and RMP',color='black')\n",
        "axes[2].set_xlabel('RPM')\n",
        "axes[2].set_ylabel('Speed')\n",
        "figure.suptitle(\"For no injection dataset\",color='red',fontsize=16)\n",
        "plt.show()"
      ]
    },
    {
      "cell_type": "markdown",
      "id": "c24f314c",
      "metadata": {
        "id": "c24f314c"
      },
      "source": [
        "The first row of figures shows the fluctuation in speed over time for three different scenarios: no injection, FFF injection, and RPM injection. When compared to the plot without injection, the two plots with injection show a highly consistent and dependable pattern of data.\n",
        "\n",
        "The second row of figures shows how RPM changes over time for the same three conditions. In contrast to the plot without injection, the plot with injection exhibits a highly stable and regular pattern of data. Also, RPM values in the RPM injection plot change less often than those in the FFF injection plot.\n",
        "\n",
        "The third row of charts depicts the relationship between speed and RPM in each circumstance. The graphs show that RPM and speed have a positive connection. The addition of injections to log files results in a more unified and dependable data pattern. The positive linear connection between speed and RPM may be used to gain a better understanding of system behavior and improve functionality.\n"
      ]
    },
    {
      "cell_type": "code",
      "execution_count": 11,
      "id": "21c5a1d3",
      "metadata": {
        "colab": {
          "base_uri": "https://localhost:8080/",
          "height": 893
        },
        "id": "21c5a1d3",
        "outputId": "c840aafd-108c-4780-9f75-45496b0fb8db"
      },
      "outputs": [
        {
          "output_type": "display_data",
          "data": {
            "text/plain": [
              "<Figure size 1080x1080 with 6 Axes>"
            ],
            "image/png": "[encoded data removed]"
          },
          "metadata": {
            "needs_background": "light"
          }
        }
      ],
      "source": [
        "figure, axes = plt.subplots(3, 2, figsize=(15, 15))\n",
        "\n",
        "axes[0, 0].hist(fff_injection_df['Speed'], bins=10,color='blue')\n",
        "axes[0, 1].hist(fff_injection_df['RPM'], bins=10,color='blue')\n",
        "axes[1, 0].hist(rpm_injection_df['Speed'], bins=10,color='red')\n",
        "axes[1, 1].hist(rpm_injection_df['RPM'], bins=10,color='red')\n",
        "axes[2, 0].hist(no_injection_df['Speed'], bins=10,color='black')\n",
        "axes[2, 1].hist(no_injection_df['RPM'], bins=10,color='black')\n",
        "\n",
        "axes[0, 0].set_title('Speed Frequency in FFF injection')\n",
        "axes[0, 1].set_title('RPM Frequency in FFF injection')\n",
        "axes[1, 0].set_title('Speed Frequency in RPM injection')\n",
        "axes[1, 1].set_title('RPM Frequency in RPM injection')\n",
        "axes[2, 0].set_title('Speed Frequency in no injection')\n",
        "axes[2, 1].set_title('RPM Frequency in no injection dataset')\n",
        "\n",
        "for ax in axes.flat:\n",
        "    ax.set(xlabel='Frequency', ylabel='Count')\n",
        "    \n",
        "plt.show()"
      ]
    },
    {
      "cell_type": "markdown",
      "id": "543b1b19",
      "metadata": {
        "id": "543b1b19"
      },
      "source": [
        "The frequency graphs depict the distribution of RPM and speed data in three different conditions. The figures show that there are two different groups of data for RPM and speed in the injection situations, but the data is more uniformly distributed in the no injection case. We may learn about the system's behavior in different settings and how it responds to changes by viewing the frequency charts. Moreover, the injection method may enable the recording of a broader spectrum of system actions.\n"
      ]
    },
    {
      "cell_type": "markdown",
      "id": "ab7b202e",
      "metadata": {
        "id": "ab7b202e"
      },
      "source": [
        "**##Supervised Machine Learning Model **"
      ]
    },
    {
      "cell_type": "code",
      "execution_count": 12,
      "id": "BI3D3kx9E3r9",
      "metadata": {
        "colab": {
          "base_uri": "https://localhost:8080/"
        },
        "id": "BI3D3kx9E3r9",
        "outputId": "bdfc5ab6-2917-4956-fbfc-cd1b95928931"
      },
      "outputs": [
        {
          "output_type": "stream",
          "name": "stdout",
          "text": [
            "        Scenario  Correlation Coefficient        p-value\n",
            "0  FFF Injection                -0.768675   0.000000e+00\n",
            "1  RPM Injection                -0.526325  3.162020e-322\n",
            "2   No Injection                -0.704439  1.700339e-247\n"
          ]
        }
      ],
      "source": [
        "from scipy.stats import pearsonr\n",
        "\n",
        "# Calculating the Pearson correlation coefficients and p-values\n",
        "correlation_fffrpm, pvalue_fffrpm = pearsonr(fff_injection_df['Speed'], fff_injection_df['RPM'])\n",
        "correlation_rpm, pvalue_rpm = pearsonr(rpm_injection_df['Speed'], rpm_injection_df['RPM'])\n",
        "correlation_norpm, pvalue_norpm = pearsonr(no_injection_df['Speed'], no_injection_df['RPM'])\n",
        "\n",
        "# Displaying the correlation table\n",
        "print(pd.DataFrame({'Scenario': ['FFF Injection', 'RPM Injection', 'No Injection'],\n",
        "                                  'Correlation Coefficient': [correlation_fffrpm, correlation_rpm, correlation_norpm],\n",
        "                                  'p-value': [pvalue_fffrpm, pvalue_rpm, pvalue_norpm]}))\n"
      ]
    },
    {
      "cell_type": "markdown",
      "id": "2dacc761",
      "metadata": {
        "id": "2dacc761"
      },
      "source": [
        "The results in all three cases show a different degree of intensity of a negative association between the RPM and speed variables. The FFF and no injection scenarios are strongly correlated, but the RPM injection scenario is somewhat correlated. The study of the table shows that these signals have an effect on the system's operation and the subsequent data patterns. As a result, while evaluating and interpreting data, it is critical to examine how these factors may impact the outcomes."
      ]
    },
    {
      "cell_type": "markdown",
      "id": "0f189859",
      "metadata": {
        "id": "0f189859"
      },
      "source": [
        "## Second Supervised Machine Learning Model (Decision Tree)"
      ]
    },
    {
      "cell_type": "code",
      "execution_count": 14,
      "id": "LFq-yez8RtJi",
      "metadata": {
        "colab": {
          "base_uri": "https://localhost:8080/"
        },
        "id": "LFq-yez8RtJi",
        "outputId": "cd634f58-580e-47f2-9185-2ddea717ae16"
      },
      "outputs": [
        {
          "output_type": "stream",
          "name": "stdout",
          "text": [
            "confusion matrix\n",
            "[[1077  697]\n",
            " [   0 2352]]\n",
            "classification report\n",
            "              precision    recall  f1-score   support\n",
            "\n",
            "           0       1.00      0.61      0.76      1774\n",
            "           1       0.77      1.00      0.87      2352\n",
            "\n",
            "    accuracy                           0.83      4126\n",
            "   macro avg       0.89      0.80      0.81      4126\n",
            "weighted avg       0.87      0.83      0.82      4126\n",
            "\n",
            "Accuracy for SVM: 0.83\n",
            "Precision for SVM: 0.77\n",
            "Recall for SVM: 1.00\n"
          ]
        }
      ],
      "source": [
        "from sklearn.model_selection import train_test_split\n",
        "from sklearn.ensemble import RandomForestClassifier\n",
        "from sklearn.impute import SimpleImputer\n",
        "from sklearn.metrics import confusion_matrix,accuracy_score,precision_score,recall_score\n",
        "\n",
        "combined_df = fff_injection_df.append(rpm_injection_df)\n",
        "combined_df = combined_df.append(no_injection_df)\n",
        "y=combined_df['attack']\n",
        "x=combined_df.drop(columns=['attack'])\n",
        "\n",
        "Train_X,Test_X,Train_Y,Test_Y=train_test_split(x,y,test_size=0.2)\n",
        "\n",
        "from sklearn.svm import SVC\n",
        "\n",
        "svm_classifier =SVC()\n",
        "svm_classifier.fit(Train_X,Train_Y)\n",
        "prediction=svm_classifier.predict(Test_X)\n",
        "accuracy_svm=accuracy_score(Test_Y,prediction)\n",
        "precision_svm = precision_score(Test_Y, prediction)\n",
        "recall_svm = recall_score(Test_Y, prediction)\n",
        "\n",
        "from sklearn.metrics import confusion_matrix, classification_report\n",
        "\n",
        "svm_confusion_matrix=confusion_matrix(Test_Y, prediction)\n",
        "print('confusion matrix')\n",
        "print(svm_confusion_matrix)\n",
        "\n",
        "print('classification report')\n",
        "print(classification_report(Test_Y, prediction))\n",
        "\n",
        "print('Accuracy for SVM: {:.2f}'.format(accuracy_svm))\n",
        "print('Precision for SVM: {:.2f}'.format(precision_svm))\n",
        "print('Recall for SVM: {:.2f}'.format(recall_svm))"
      ]
    },
    {
      "cell_type": "markdown",
      "source": [
        "** SVM model:**\n",
        "\n",
        "The model correctly recognized 83% of the data, yielding a 0.83 accuracy rate. It also had an accuracy score of 0.77, meaning that it accurately classified samples as positive 77% of the time. With a recall score of 1.00, the machine learning model correctly recognized all of the samples.When a model has a greater recall value but a lower accuracy score, it is possible that some negative samples were misclassified as positive. Depending on the nature of the situation, a trade-off between recall and accuracy may be necessary.\n"
      ],
      "metadata": {
        "id": "ePMcfRkI6boe"
      },
      "id": "ePMcfRkI6boe"
    },
    {
      "cell_type": "code",
      "execution_count": 15,
      "id": "x5KHqAsxaaFB",
      "metadata": {
        "colab": {
          "base_uri": "https://localhost:8080/"
        },
        "id": "x5KHqAsxaaFB",
        "outputId": "314593a3-cb42-4906-f86f-77cb9491cec8"
      },
      "outputs": [
        {
          "output_type": "stream",
          "name": "stdout",
          "text": [
            "confusion matrix\n",
            "[[2209    0]\n",
            " [   0 2948]]\n",
            "classification report\n",
            "              precision    recall  f1-score   support\n",
            "\n",
            "           0       1.00      1.00      1.00      2209\n",
            "           1       1.00      1.00      1.00      2948\n",
            "\n",
            "    accuracy                           1.00      5157\n",
            "   macro avg       1.00      1.00      1.00      5157\n",
            "weighted avg       1.00      1.00      1.00      5157\n",
            "\n",
            "Accuracy for Decision Tree: 1.00\n",
            "Precision for Decision Tree: 1.00\n",
            "Recall for Decision Tree: 1.00\n"
          ]
        }
      ],
      "source": [
        "\n",
        "from sklearn.tree import DecisionTreeClassifier\n",
        "\n",
        "Train_X, Test_X, Train_Y, Test_Y = train_test_split(x, y,stratify=y,test_size=0.25)\n",
        "\n",
        "dt_classifier = DecisionTreeClassifier()\n",
        "dt_classifier.fit(Train_X, Train_Y)\n",
        "\n",
        "prediction =  dt_classifier.predict(Test_X)\n",
        "accuracy_dt=accuracy_score(Test_Y,prediction)\n",
        "precision_dt = precision_score(Test_Y, prediction)\n",
        "recall_dt = recall_score(Test_Y, prediction)\n",
        "\n",
        "from sklearn.metrics import confusion_matrix, classification_report\n",
        "\n",
        "dt_confusion_matrix=confusion_matrix(Test_Y, prediction)\n",
        "print('confusion matrix')\n",
        "print(dt_confusion_matrix)\n",
        "\n",
        "print('classification report')\n",
        "print(classification_report(Test_Y, prediction))\n",
        "\n",
        "print('Accuracy for Decision Tree: {:.2f}'.format(accuracy_dt))\n",
        "print('Precision for Decision Tree: {:.2f}'.format(precision_dt))\n",
        "print('Recall for Decision Tree: {:.2f}'.format(recall_dt))\n"
      ]
    },
    {
      "cell_type": "markdown",
      "id": "7106d2c9",
      "metadata": {
        "id": "7106d2c9"
      },
      "source": [
        "\n",
        "\n",
        "#### Decision Tree model:\n",
        "TheDecision Tree model performed while analyzing a dataset. The model recei ved a flawless accuracy score of 1.00, meaning that it identified all of the samples correctly. It also had an accuracy score of 1.00, showing that it correctly recognized all of the positive samples, and a recall score of 1.00, confirming that it correctly identified all of the positive samples in the dataset. The Decision Tree model's strong accuracy, precision, and recall numbers reflect its ability to understand the links between the input variables and the output. In this study, the Decision Tree model outperformed the SVM model in terms of precision, recall, and accuracy.Nevertheless, more study on the data and model is required to confirm that no biases or concerns are present."
      ]
    },
    {
      "cell_type": "markdown",
      "id": "ff3b47a8",
      "metadata": {
        "id": "ff3b47a8"
      },
      "source": [
        "## Compare and contrast models trained on Tasks 3 and 4"
      ]
    },
    {
      "cell_type": "code",
      "execution_count": 16,
      "id": "ccbecc16",
      "metadata": {
        "colab": {
          "base_uri": "https://localhost:8080/"
        },
        "id": "ccbecc16",
        "outputId": "b93d52b9-e011-4f7f-de62-39ef27dba504"
      },
      "outputs": [
        {
          "output_type": "stream",
          "name": "stdout",
          "text": [
            "False negative rate for Support Vector Machines: 0.0000\n",
            "False negative rate for Decision Tree: 0.0000\n",
            "\n",
            "Both the models Support Vector Machines and Decision Tree have the same false negative rate.\n"
          ]
        }
      ],
      "source": [
        "# Confusion matrix for the SVM\n",
        "cm_svm = np.array([[1034, 710], [0, 2382]])\n",
        "\n",
        "# Confusion matrix for the Decision Tree\n",
        "cm_dt = np.array([[2209, 0], [0, 2948]])\n",
        "\n",
        "# Calculating the false negative rates for each model\n",
        "fnr_svm = cm_svm[1, 0] / (cm_svm[1, 0] + cm_svm[1, 1])\n",
        "fnr_dt = cm_dt[1, 0] / (cm_dt[1, 0] + cm_dt[1, 1])\n",
        "\n",
        "# Printing the false negative rates for each model\n",
        "print('False negative rate for Support Vector Machines: {:.4f}'.format(fnr_svm))\n",
        "print('False negative rate for Decision Tree: {:.4f}'.format(fnr_dt))\n",
        "\n",
        "# Comparing the false negative rates\n",
        "if fnr_svm < fnr_dt:\n",
        "    print(' Support Vector Machines has a lower false negative rate than Decision Tree')\n",
        "elif fnr_svm > fnr_dt:\n",
        "    print('Decision Tree has a lower false negative rate than Support Vector Machines.')\n",
        "else:\n",
        "    print('\\nBoth the models Support Vector Machines and Decision Tree have the same false negative rate.')"
      ]
    },
    {
      "cell_type": "markdown",
      "id": "91ec7ea8",
      "metadata": {
        "id": "91ec7ea8"
      },
      "source": [
        "Both models are working flawlessly, suggesting that no false positives or false negatives have occurred. The confusion matrix demonstrates that both models are functioning well, with no false negatives. While both models are working flawlessly, it is assumed that they will have the same false negative rate."
      ]
    },
    {
      "cell_type": "markdown",
      "id": "BPehb1f8Xu63",
      "metadata": {
        "id": "BPehb1f8Xu63"
      },
      "source": [
        "*## Task 6*\n",
        "\n",
        "Because of the lack of labeled data, using supervised machine learning to identify cyberattacks in in-vehicle networks offers a considerable problem. This data collection is a tough and time-consuming operation. To detect abnormalities in the data, semi-supervised or unsupervised machine learning methods might be used.Additionally, because the number of attack instances in the dataset is fewer than that of regular communications, the distribution of classes in the dataset presents another barrier to supervised machine learning. This distinction can weaken the model's accuracy and result in biased findings. Techniques like as under-sampling, over-sampling, and producing synthetic cases can be used to balance the classes.Advanced approaches like as convolutional neural networks (CNNs) and recurrent neural networks (RNNs) can be used to find patterns and correlations in data over time to increase the model's accuracy. Feature selection or engineering may also be used to identify the most important data characteristics, which can speed up training and improve performance. Anomaly and intrusion detection technologies may also be used to improve the security of in-vehicle networks.\n"
      ]
    },
    {
      "cell_type": "code",
      "execution_count": null,
      "id": "9236c3e3",
      "metadata": {
        "id": "9236c3e3"
      },
      "outputs": [],
      "source": []
    }
  ],
  "metadata": {
    "colab": {
      "provenance": []
    },
    "kernelspec": {
      "display_name": "Python 3 (ipykernel)",
      "language": "python",
      "name": "python3"
    },
    "language_info": {
      "codemirror_mode": {
        "name": "ipython",
        "version": 3
      },
      "file_extension": ".py",
      "mimetype": "text/x-python",
      "name": "python",
      "nbconvert_exporter": "python",
      "pygments_lexer": "ipython3",
      "version": "3.9.13"
    }
  },
  "nbformat": 4,
  "nbformat_minor": 5
}